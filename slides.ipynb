{
 "cells": [
  {
   "cell_type": "markdown",
   "metadata": {
    "slideshow": {
     "slide_type": "slide"
    }
   },
   "source": [
    "<h1 align=\"center\">CuVec: Unifying Python/C++/CUDA memory</h1>\n",
    "<a href=\"https://xkcd.com/138\"><img src=\"https://imgs.xkcd.com/comics/pointers.png\" alt=\"xkcd#138\" align=\"left\" width=\"300px\" style=\"border:10px solid white\"/></a>\n",
    "\n",
    "----\n",
    "\n",
    "**Python buffered array ↔ C++11 `std::vector` ↔ CUDA managed memory**\n",
    "\n",
    "<small>3 May 2023</small>\n",
    "\n",
    "<a href=\"https://cdcl.ml\">Casper da Costa-Luis</a> | [![@casperdcl](https://img.shields.io/badge/GitHub-%40casperdcl-black.svg?style=social&logo=github)](https://github.com/casperdcl)\n",
    "-|-"
   ]
  },
  {
   "cell_type": "markdown",
   "metadata": {
    "slideshow": {
     "slide_type": "slide"
    }
   },
   "source": [
    "# Problem\n",
    "\n",
    "- One problem, one language\n",
    "- Two problems, two languages\n",
    "  + interfaces\n",
    "\n",
    "# Prior Art\n",
    "\n",
    "- Lots of boilerplate (CPython API)\n",
    "- Pre-SSDs\n",
    "- Pre-TensorFlow/PyTorch"
   ]
  },
  {
   "cell_type": "markdown",
   "metadata": {
    "slideshow": {
     "slide_type": "slide"
    }
   },
   "source": [
    "# New Hope\n",
    "\n",
    "- Python 3 (array buffer protocol), 3.6 (`float16`)\n",
    "- C++11 (alias templates, vector allocators)\n",
    "- CUDA 6 (unified memory)"
   ]
  },
  {
   "cell_type": "markdown",
   "metadata": {
    "slideshow": {
     "slide_type": "notes"
    }
   },
   "source": [
    "- major support (eg `numpy.frombuffer`)\n",
    "- custom allocators for containers (eg `std::vectors`)\n",
    "- single address space w. implicit auto sync between CPU RAM & GPU device mem"
   ]
  }
 ],
 "metadata": {
  "kernelspec": {
   "display_name": "Python 3 (ipykernel)",
   "language": "python",
   "name": "python3"
  },
  "language_info": {
   "codemirror_mode": {
    "name": "ipython"
   },
   "file_extension": ".py",
   "mimetype": "text/x-python",
   "name": "python",
   "nbconvert_exporter": "python"
  }
 },
 "nbformat": 4,
 "nbformat_minor": 2
}
